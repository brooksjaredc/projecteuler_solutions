{
 "cells": [
  {
   "cell_type": "code",
   "execution_count": 1,
   "metadata": {},
   "outputs": [],
   "source": [
    "import time"
   ]
  },
  {
   "cell_type": "markdown",
   "metadata": {},
   "source": [
    "## Problem 21: Amicable numbers\n",
    "\n",
    "Let d(n) be defined as the sum of proper divisors of n (numbers less than n which divide evenly into n).\n",
    "If d(a) = b and d(b) = a, where a ≠ b, then a and b are an amicable pair and each of a and b are called amicable numbers.\n",
    "\n",
    "For example, the proper divisors of 220 are 1, 2, 4, 5, 10, 11, 20, 22, 44, 55 and 110; therefore d(220) = 284. The proper divisors of 284 are 1, 2, 4, 71 and 142; so d(284) = 220.\n",
    "\n",
    "Evaluate the sum of all the amicable numbers under 10000."
   ]
  },
  {
   "cell_type": "code",
   "execution_count": 2,
   "metadata": {},
   "outputs": [],
   "source": [
    "def sum_factors(n):  \n",
    "    result = []\n",
    "    for i in range(1, int(n**0.5) + 1):\n",
    "        \n",
    "        if n % i == 0:\n",
    "            #print(i, n//i)\n",
    "            result.extend([i, n//i])\n",
    "    return sum(set(result)-set([n]))"
   ]
  },
  {
   "cell_type": "code",
   "execution_count": 3,
   "metadata": {},
   "outputs": [
    {
     "data": {
      "text/plain": [
       "284"
      ]
     },
     "execution_count": 3,
     "metadata": {},
     "output_type": "execute_result"
    }
   ],
   "source": [
    "sum_factors(220)"
   ]
  },
  {
   "cell_type": "code",
   "execution_count": 4,
   "metadata": {},
   "outputs": [],
   "source": [
    "def amicable_pair(number):\n",
    "    result = []\n",
    "    for x in range(1,number+1):\n",
    "        y = sum_factors(x)\n",
    "        if sum_factors(y) == x and x != y:\n",
    "            result.append(tuple(sorted((x,y))))\n",
    "        pair_sum = 0\n",
    "    for tup in set(result):\n",
    "        pair_sum+=tup[0]+tup[1]\n",
    "    return pair_sum#set(result)"
   ]
  },
  {
   "cell_type": "code",
   "execution_count": 5,
   "metadata": {},
   "outputs": [
    {
     "name": "stdout",
     "output_type": "stream",
     "text": [
      "31626\n",
      "0.4012610912322998\n"
     ]
    }
   ],
   "source": [
    "start = time.time()\n",
    "print(amicable_pair(10000))\n",
    "print(time.time()-start)"
   ]
  },
  {
   "cell_type": "markdown",
   "metadata": {},
   "source": [
    "## Problem 8: Largest Product in a Series\n",
    "\n",
    "The four adjacent digits in the 1000-digit number that have the greatest product are 9 × 9 × 8 × 9 = 5832.\n",
    "\n",
    "73167176531330624919225119674426574742355349194934\n",
    "96983520312774506326239578318016984801869478851843\n",
    "85861560789112949495459501737958331952853208805511\n",
    "12540698747158523863050715693290963295227443043557\n",
    "66896648950445244523161731856403098711121722383113\n",
    "62229893423380308135336276614282806444486645238749\n",
    "30358907296290491560440772390713810515859307960866\n",
    "70172427121883998797908792274921901699720888093776\n",
    "65727333001053367881220235421809751254540594752243\n",
    "52584907711670556013604839586446706324415722155397\n",
    "53697817977846174064955149290862569321978468622482\n",
    "83972241375657056057490261407972968652414535100474\n",
    "82166370484403199890008895243450658541227588666881\n",
    "16427171479924442928230863465674813919123162824586\n",
    "17866458359124566529476545682848912883142607690042\n",
    "24219022671055626321111109370544217506941658960408\n",
    "07198403850962455444362981230987879927244284909188\n",
    "84580156166097919133875499200524063689912560717606\n",
    "05886116467109405077541002256983155200055935729725\n",
    "71636269561882670428252483600823257530420752963450\n",
    "\n",
    "Find the thirteen adjacent digits in the 1000-digit number that have the greatest product. What is the value of this product?"
   ]
  },
  {
   "cell_type": "code",
   "execution_count": 6,
   "metadata": {},
   "outputs": [],
   "source": [
    "thousand = 7316717653133062491922511967442657474235534919493496983520312774506326239578318016984801869478851843858615607891129494954595017379583319528532088055111254069874715852386305071569329096329522744304355766896648950445244523161731856403098711121722383113622298934233803081353362766142828064444866452387493035890729629049156044077239071381051585930796086670172427121883998797908792274921901699720888093776657273330010533678812202354218097512545405947522435258490771167055601360483958644670632441572215539753697817977846174064955149290862569321978468622482839722413756570560574902614079729686524145351004748216637048440319989000889524345065854122758866688116427171479924442928230863465674813919123162824586178664583591245665294765456828489128831426076900422421902267105562632111110937054421750694165896040807198403850962455444362981230987879927244284909188845801561660979191338754992005240636899125607176060588611646710940507754100225698315520005593572972571636269561882670428252483600823257530420752963450\n",
    "thousand = [int(i) for i in str(thousand)]\n",
    "\n"
   ]
  },
  {
   "cell_type": "code",
   "execution_count": 7,
   "metadata": {},
   "outputs": [
    {
     "data": {
      "text/plain": [
       "7"
      ]
     },
     "execution_count": 7,
     "metadata": {},
     "output_type": "execute_result"
    }
   ],
   "source": [
    "sublist = thousand[:13]\n",
    "\n",
    "thousand[13]\n",
    "import numpy as np\n",
    "product = np.prod(sublist)\n",
    "sublist[0]"
   ]
  },
  {
   "cell_type": "code",
   "execution_count": 8,
   "metadata": {},
   "outputs": [],
   "source": [
    "max_product = product\n",
    "for i in range(13,1000):\n",
    "    #print(sublist, product)\n",
    "    if(sublist[0]==0):\n",
    "        sublist.pop(0)\n",
    "        sublist.append(thousand[i])\n",
    "        product = np.prod(sublist)\n",
    "    else:\n",
    "        product = product*thousand[i]/sublist.pop(0)\n",
    "        sublist.append(thousand[i])\n",
    "    max_product = max(product, max_product)\n",
    "    "
   ]
  },
  {
   "cell_type": "code",
   "execution_count": 9,
   "metadata": {},
   "outputs": [
    {
     "data": {
      "text/plain": [
       "23514624000.0"
      ]
     },
     "execution_count": 9,
     "metadata": {},
     "output_type": "execute_result"
    }
   ],
   "source": [
    "max_product"
   ]
  },
  {
   "cell_type": "markdown",
   "metadata": {},
   "source": [
    "## Problem 35: Circular primes\n",
    "\n",
    "The number, 197, is called a circular prime because all rotations of the digits: 197, 971, and 719, are themselves prime.\n",
    "\n",
    "There are thirteen such primes below 100: 2, 3, 5, 7, 11, 13, 17, 31, 37, 71, 73, 79, and 97.\n",
    "\n",
    "How many circular primes are there below one million?"
   ]
  },
  {
   "cell_type": "code",
   "execution_count": 10,
   "metadata": {},
   "outputs": [],
   "source": [
    "def is_prime(num):\n",
    "    for i in range(2, num//2+1):\n",
    "       # If num is divisible by any number between  \n",
    "       # 2 and n / 2, it is not prime  \n",
    "        if (num % i) == 0: \n",
    "            return False\n",
    "    else: \n",
    "        return True\n",
    "    \n",
    "def is_even(num):\n",
    "    if(num%2==0):\n",
    "        return True\n",
    "    else:\n",
    "        return False\n",
    "\n",
    "\n",
    "def generate_circs(lst):\n",
    "    circs = []\n",
    "    new_list = lst\n",
    "    for i in range(len(lst)-1):\n",
    "        new_list = new_list[1:] + [new_list[0]]\n",
    "        circs.append(new_list)\n",
    "    return circs"
   ]
  },
  {
   "cell_type": "code",
   "execution_count": 11,
   "metadata": {},
   "outputs": [],
   "source": [
    "def find_circ_primes(limit):\n",
    "    circ_primes = 0\n",
    "\n",
    "    for i in range(2,limit):\n",
    "#         if(i%50000==0):\n",
    "#             print(i)\n",
    "        if(i>12):\n",
    "            listi = [int(j) for j in str(i)]\n",
    "            contains_even_digit = False\n",
    "            for j in listi:\n",
    "                if(is_even(j)):\n",
    "                    contains_even_digit = True\n",
    "            if(contains_even_digit):\n",
    "                continue\n",
    "        if(not is_prime(i)):\n",
    "            continue\n",
    "        if(i<12):\n",
    "            circ_primes+=1\n",
    "        else:\n",
    "            listi = [int(j) for j in str(i)]\n",
    "            circs = generate_circs(listi)\n",
    "            is_circ = True\n",
    "            for circ in circs:\n",
    "                num = map(str, circ)\n",
    "                num = int(''.join(num))\n",
    "                if(not is_prime(num)):\n",
    "                    is_circ=False\n",
    "                    break\n",
    "            if(is_circ):\n",
    "                circ_primes+=1\n",
    "    return circ_primes"
   ]
  },
  {
   "cell_type": "code",
   "execution_count": 12,
   "metadata": {},
   "outputs": [
    {
     "name": "stdout",
     "output_type": "stream",
     "text": [
      "198.17445993423462\n"
     ]
    }
   ],
   "source": [
    "start = time.time()\n",
    "find_circ_primes(1000000)\n",
    "print(time.time()-start)"
   ]
  },
  {
   "cell_type": "markdown",
   "metadata": {},
   "source": [
    "## Problem 6: Sum Square Difference\n",
    "\n",
    "The sum of the squares of the first ten natural numbers is,\n",
    "\n",
    "1^2 + 2^2 + ... + 10^2 = 385\n",
    "\n",
    "The square of the sum of the first ten natural numbers is,\n",
    "\n",
    "(1+2+...+10)^2 = 55^2 = 3025\n",
    "\n",
    "Hence the difference between the sum of the squares of the first ten natural numbers and the square of the sum is \n",
    "\n",
    "3025-385 = 2640\n",
    "\n",
    "Find the difference between the sum of the squares of the first one hundred natural numbers and the square of the sum."
   ]
  },
  {
   "cell_type": "code",
   "execution_count": 13,
   "metadata": {},
   "outputs": [
    {
     "data": {
      "text/plain": [
       "25164150"
      ]
     },
     "execution_count": 13,
     "metadata": {},
     "output_type": "execute_result"
    }
   ],
   "source": [
    "sum_sqr = 0\n",
    "sum_nat = 0\n",
    "for i in range(101):\n",
    "    sum_sqr+=i**2\n",
    "    sum_nat+=i\n",
    "    \n",
    "sum_nat**2-sum_sqr"
   ]
  },
  {
   "cell_type": "markdown",
   "metadata": {},
   "source": [
    "## Problem 5: Smallest Multiple\n",
    "\n",
    "2520 is the smallest number that can be divided by each of the numbers from 1 to 10 without any remainder.\n",
    "\n",
    "What is the smallest positive number that is evenly divisible by all of the numbers from 1 to 20?"
   ]
  },
  {
   "cell_type": "code",
   "execution_count": 14,
   "metadata": {},
   "outputs": [
    {
     "name": "stdout",
     "output_type": "stream",
     "text": [
      "forelse\n"
     ]
    },
    {
     "data": {
      "text/plain": [
       "232792560"
      ]
     },
     "execution_count": 14,
     "metadata": {},
     "output_type": "execute_result"
    }
   ],
   "source": [
    "num = 2520  #2520\n",
    "k=True\n",
    "while k:\n",
    "    for i in range(20,1,-1):\n",
    "        if(num%i!=0):\n",
    "            break\n",
    "    else:\n",
    "        print('forelse')\n",
    "        k=False\n",
    "    #if(num%1000==0):\n",
    "        #print(num)\n",
    "    num+=20\n",
    "num-20"
   ]
  },
  {
   "cell_type": "markdown",
   "metadata": {},
   "source": [
    "## Problem 15: Lattice Paths\n",
    "\n",
    "Starting in the top left corner of a 2×2 grid, and only being able to move to the right and down, there are exactly 6 routes to the bottom right corner.\n",
    "\n",
    "\n",
    "How many such routes are there through a 20×20 grid?"
   ]
  },
  {
   "cell_type": "code",
   "execution_count": 15,
   "metadata": {},
   "outputs": [
    {
     "name": "stdout",
     "output_type": "stream",
     "text": [
      "2704156\n",
      "8.820487976074219\n"
     ]
    }
   ],
   "source": [
    "## This recursive solution is only feasible for grid sizes of about 12 or smaller\n",
    "## That's because this simple recursive solution has a runtime of O(2^N^2)\n",
    "\n",
    "start = time.time()\n",
    "\n",
    "gridsize = 12\n",
    "Matrix = [[0 for x in range(gridsize+1)] for y in range(gridsize+1)] \n",
    "\n",
    "def take_step(x,y):\n",
    "    if(x==y==gridsize): return 1\n",
    "    paths = 0\n",
    "    if(x<gridsize):\n",
    "        if(Matrix[y][x+1]>0):\n",
    "            paths += Matrix[y][x+1]\n",
    "            print(x,y,paths)\n",
    "        else:\n",
    "            paths += take_step(x+1,y)\n",
    "    if(y<gridsize):\n",
    "        if(Matrix[y+1][x]>0):\n",
    "            paths += Matrix[y+1][x]\n",
    "            print(x,y,paths)\n",
    "        else:\n",
    "            paths += take_step(x,y+1)\n",
    "    \n",
    "    return(paths)\n",
    "\n",
    "num = take_step(0,0)\n",
    "print(num)\n",
    "\n",
    "print(time.time()-start)"
   ]
  },
  {
   "cell_type": "code",
   "execution_count": 16,
   "metadata": {},
   "outputs": [
    {
     "name": "stdout",
     "output_type": "stream",
     "text": [
      "137846528820\n",
      "0.0012290477752685547\n"
     ]
    }
   ],
   "source": [
    "## The Dynamic programming solution runtime scales as O(N^2) instead of O(2^N^2) as above\n",
    "## This solution scales much better and our run time for a grid size of 20 is negligible\n",
    "\n",
    "start = time.time()\n",
    "\n",
    "gridsize = 20\n",
    "Matrix = [[0 for x in range(gridsize+1)] for y in range(gridsize+1)] \n",
    "\n",
    "for y in reversed(range(0,gridsize+1)):\n",
    "\n",
    "    for x in reversed(range(0,gridsize+1)):\n",
    "        #print(x,y)\n",
    "        if(x==y==20): Matrix[y][x]=1\n",
    "        elif(y==20 and x<20): Matrix[y][x]=1\n",
    "        elif(x==20 and y<20): Matrix[y][x]=1\n",
    "        else:\n",
    "            Matrix[y][x] = Matrix[y+1][x] + Matrix[y][x+1]\n",
    "\n",
    "print(Matrix[0][0])\n",
    "\n",
    "print(time.time()-start)"
   ]
  },
  {
   "cell_type": "markdown",
   "metadata": {},
   "source": [
    "## Problem 9: Special Pythagorean Triplet:\n",
    "\n",
    "A Pythagorean triplet is a set of three natural numbers, a < b < c, for which,\n",
    "\n",
    "a^2 + b^2 = c^2\n",
    "For example, 32 + 42 = 9 + 16 = 25 = 52.\n",
    "\n",
    "There exists exactly one Pythagorean triplet for which a + b + c = 1000.\n",
    "Find the product abc."
   ]
  },
  {
   "cell_type": "code",
   "execution_count": 17,
   "metadata": {},
   "outputs": [
    {
     "name": "stdout",
     "output_type": "stream",
     "text": [
      "200.0 375.0 425.0 1000.0\n"
     ]
    }
   ],
   "source": [
    "cond=False\n",
    "b=1.0\n",
    "while cond==False:\n",
    "    a=(1000000-2000*b)//(2000-2*b)\n",
    "    c=np.sqrt(a**2+b**2)\n",
    "    #print(a,b,c,a+b+c)\n",
    "    if(a<b and b<c and a+b+c==1000.0):\n",
    "        cond=True\n",
    "    else:\n",
    "        b+=1\n",
    "print(a,b,c, a+b+c)"
   ]
  },
  {
   "cell_type": "markdown",
   "metadata": {},
   "source": [
    "## Problem 25: 1000-digit Fibonacci number\n",
    "\n",
    "The Fibonacci sequence is defined by the recurrence relation:\n",
    "\n",
    "Fn = Fn−1 + Fn−2, where F1 = 1 and F2 = 1.\n",
    "Hence the first 12 terms will be:\n",
    "\n",
    "F1 = 1\n",
    "F2 = 1\n",
    "F3 = 2\n",
    "F4 = 3\n",
    "F5 = 5\n",
    "F6 = 8\n",
    "F7 = 13\n",
    "F8 = 21\n",
    "F9 = 34\n",
    "F10 = 55\n",
    "F11 = 89\n",
    "F12 = 144\n",
    "The 12th term, F12, is the first term to contain three digits.\n",
    "\n",
    "What is the index of the first term in the Fibonacci sequence to contain 1000 digits?"
   ]
  },
  {
   "cell_type": "code",
   "execution_count": 18,
   "metadata": {},
   "outputs": [
    {
     "name": "stdout",
     "output_type": "stream",
     "text": [
      "4782\n"
     ]
    }
   ],
   "source": [
    "fn2 = 1\n",
    "fn1 = 1\n",
    "n=3\n",
    "while True:\n",
    "    fn = fn2+fn1\n",
    "    if(len(str(fn))==1000):\n",
    "        print(n)\n",
    "        break\n",
    "    n+=1\n",
    "    fn1, fn2 = fn, fn1\n",
    "    "
   ]
  },
  {
   "cell_type": "markdown",
   "metadata": {},
   "source": [
    "## Problem 31: Coin Sums\n",
    "\n",
    "In the United Kingdom the currency is made up of pound (£) and pence (p). There are eight coins in general circulation:\n",
    "\n",
    "1p, 2p, 5p, 10p, 20p, 50p, £1 (100p), and £2 (200p).\n",
    "It is possible to make £2 in the following way:\n",
    "\n",
    "1×£1 + 1×50p + 2×20p + 1×5p + 1×2p + 3×1p\n",
    "How many different ways can £2 be made using any number of coins?"
   ]
  },
  {
   "cell_type": "markdown",
   "metadata": {},
   "source": [
    "### Simple Recursion:"
   ]
  },
  {
   "cell_type": "code",
   "execution_count": 19,
   "metadata": {},
   "outputs": [],
   "source": [
    "coins = [200, 100, 50, 20, 10, 5, 2, 1]"
   ]
  },
  {
   "cell_type": "code",
   "execution_count": 20,
   "metadata": {},
   "outputs": [],
   "source": [
    "def choose_coin(coins, amount):\n",
    "#     print(amount)\n",
    "    if(amount==200):\n",
    "        return 1\n",
    "    if(amount>200):\n",
    "        return 0\n",
    "    ways = 0\n",
    "    for coin in coins:\n",
    "        new_amount = amount + coin\n",
    "        if(new_amount<=200):\n",
    "            ways+=choose_coin(coins, new_amount)\n",
    "    return(ways)"
   ]
  },
  {
   "cell_type": "code",
   "execution_count": 21,
   "metadata": {},
   "outputs": [],
   "source": [
    "# choose_coin(coins,0)\n",
    "\n",
    "# Takes too long"
   ]
  },
  {
   "cell_type": "markdown",
   "metadata": {},
   "source": [
    "### Memoization and Dynamic Programming:"
   ]
  },
  {
   "cell_type": "code",
   "execution_count": 22,
   "metadata": {},
   "outputs": [],
   "source": [
    "w, h = 200, 8;\n",
    "Matrix = [[0 for x in range(w+1)] for y in range(h+1)] \n",
    "coins = [1,2,5,10,20,50,100,200]\n",
    "#Matrix"
   ]
  },
  {
   "cell_type": "code",
   "execution_count": 23,
   "metadata": {},
   "outputs": [],
   "source": [
    "for y in range(h+1):\n",
    "    for x in range(w+1):\n",
    "        #print(x,y)\n",
    "        if(x==y==0): Matrix[y][x]=1\n",
    "        elif(y==0 and x>0): Matrix[y][x]=0\n",
    "        elif(x==0 and y>0): Matrix[y][x]=1\n",
    "        else:\n",
    "            new_y = y-1\n",
    "            new_x = x-coins[y-1]\n",
    "            if(new_x<0):\n",
    "                Matrix[y][x] = Matrix[new_y][x]\n",
    "            else:\n",
    "                Matrix[y][x] = Matrix[new_y][x] + Matrix[y][new_x]\n"
   ]
  },
  {
   "cell_type": "code",
   "execution_count": 24,
   "metadata": {},
   "outputs": [
    {
     "data": {
      "text/plain": [
       "73682"
      ]
     },
     "execution_count": 24,
     "metadata": {},
     "output_type": "execute_result"
    }
   ],
   "source": [
    "Matrix[h][w]"
   ]
  },
  {
   "cell_type": "markdown",
   "metadata": {},
   "source": [
    "### Fastest Solution:"
   ]
  },
  {
   "cell_type": "code",
   "execution_count": 25,
   "metadata": {},
   "outputs": [
    {
     "data": {
      "text/plain": [
       "73682"
      ]
     },
     "execution_count": 25,
     "metadata": {},
     "output_type": "execute_result"
    }
   ],
   "source": [
    "ways = [0 for x in range(201)]\n",
    "ways[0] = 1\n",
    "\n",
    "for i in range(len(coins)):\n",
    "    for j in range(coins[i], 201):\n",
    "        ways[j] += ways[j-coins[i]]\n",
    "        \n",
    "        \n",
    "ways[200]"
   ]
  },
  {
   "cell_type": "markdown",
   "metadata": {},
   "source": [
    "## Problem 2: Even Fibonacci numbers\n",
    "\n",
    "Each new term in the Fibonacci sequence is generated by adding the previous two terms. By starting with 1 and 2, the first 10 terms will be:\n",
    "\n",
    "1, 2, 3, 5, 8, 13, 21, 34, 55, 89, ...\n",
    "\n",
    "By considering the terms in the Fibonacci sequence whose values do not exceed four million, find the sum of the even-valued terms."
   ]
  },
  {
   "cell_type": "code",
   "execution_count": 26,
   "metadata": {},
   "outputs": [
    {
     "name": "stdout",
     "output_type": "stream",
     "text": [
      "4613732\n"
     ]
    }
   ],
   "source": [
    "fn2 = 1\n",
    "fn1 = 1\n",
    "n=3\n",
    "even_sum = 0\n",
    "while True:\n",
    "    fn = fn2+fn1\n",
    "    if(fn>4000000):\n",
    "        break\n",
    "    if(fn%2==0):\n",
    "        even_sum += fn\n",
    "#     fn1, fn2 = fn, fn1\n",
    "    fn2, fn1 = fn, fn2\n",
    "    \n",
    "print(even_sum)"
   ]
  },
  {
   "cell_type": "markdown",
   "metadata": {},
   "source": [
    "## Problem 3: Largest Prime Factor\n",
    "\n",
    "The prime factors of 13195 are 5, 7, 13 and 29.\n",
    "\n",
    "What is the largest prime factor of the number 600851475143 ?"
   ]
  },
  {
   "cell_type": "code",
   "execution_count": 27,
   "metadata": {},
   "outputs": [],
   "source": [
    "import numpy as np\n",
    "big_num = 600851475143\n",
    "largest_prime_fac = 2\n",
    "\n",
    "def is_prime(num):\n",
    "    for i in range(2,num//2):\n",
    "        if(num%i==0):\n",
    "            return False\n",
    "    else:\n",
    "        return True"
   ]
  },
  {
   "cell_type": "code",
   "execution_count": 28,
   "metadata": {},
   "outputs": [
    {
     "name": "stdout",
     "output_type": "stream",
     "text": [
      "71\n",
      "839\n",
      "1471\n",
      "6857\n",
      "59569\n",
      "104441\n",
      "486847\n",
      "1234169\n",
      "5753023\n",
      "10086647\n",
      "87625999\n",
      "hello\n",
      "6857\n",
      "27.427021026611328\n"
     ]
    }
   ],
   "source": [
    "## This is the slow way\n",
    "\n",
    "start = time.time()\n",
    "\n",
    "bignum = 600851475143\n",
    "i=2\n",
    "largest_factor = 0\n",
    "while True:\n",
    "    if(bignum%i==0):\n",
    "        print(i)\n",
    "        factor = bignum//i\n",
    "        if(is_prime(factor)):\n",
    "            largest_factor = factor\n",
    "            print('hello')\n",
    "            break\n",
    "    i+=1\n",
    "print(largest_factor)\n",
    "\n",
    "print(time.time()-start)"
   ]
  },
  {
   "cell_type": "code",
   "execution_count": 29,
   "metadata": {},
   "outputs": [
    {
     "name": "stdout",
     "output_type": "stream",
     "text": [
      "71\n",
      "839\n",
      "1471\n",
      "6857\n",
      "6857\n",
      "0.39729809761047363\n"
     ]
    }
   ],
   "source": [
    "## This way is much faster because each time we find \n",
    "## a factor i of big_num, we are also given the factor big_num/i\n",
    "## so we can test both of those factors. In this way we only \n",
    "## need to check numbers up to the square root of big_num\n",
    "\n",
    "start = time.time()\n",
    "\n",
    "for i in range(3,int(np.sqrt(big_num))):\n",
    "    if(big_num%i==0):\n",
    "        factor1 = i\n",
    "        factor2 = big_num/i\n",
    "        if(is_prime(int(factor1))):\n",
    "            if(factor1>largest_prime_fac):\n",
    "                largest_prime_fac=factor1\n",
    "                print(factor1)\n",
    "        if(is_prime(int(factor2))):\n",
    "            if(factor2>largest_prime_fac):\n",
    "                largest_prime_fac=factor2\n",
    "                print(factor2)\n",
    "print(largest_prime_fac)\n",
    "\n",
    "print(time.time()-start)"
   ]
  },
  {
   "cell_type": "markdown",
   "metadata": {},
   "source": [
    "## Problem 4: Largest palindrome product\n",
    "\n",
    "A palindromic number reads the same both ways. The largest palindrome made from the product of two 2-digit numbers is 9009 = 91 × 99.\n",
    "\n",
    "Find the largest palindrome made from the product of two 3-digit numbers."
   ]
  },
  {
   "cell_type": "code",
   "execution_count": 30,
   "metadata": {},
   "outputs": [],
   "source": [
    "def reverse(s): \n",
    "    str = \"\" \n",
    "    for i in s: \n",
    "        str = i + str\n",
    "    return str"
   ]
  },
  {
   "cell_type": "code",
   "execution_count": 31,
   "metadata": {},
   "outputs": [
    {
     "name": "stdout",
     "output_type": "stream",
     "text": [
      "906609 993 913\n",
      "1.3726279735565186\n"
     ]
    }
   ],
   "source": [
    "## Starting from the top of the range\n",
    "\n",
    "start = time.time()\n",
    "largest_palindrome = 0\n",
    "factor1, factor2 = 0,0\n",
    "for i in range(999,99,-1):\n",
    "    for j in range(999,99,-1):\n",
    "        if(i>j):\n",
    "            product = int(i*j)\n",
    "            rev = int(reverse(str(product)))\n",
    "            if(product==rev):\n",
    "                if(product>largest_palindrome):\n",
    "                    largest_palindrome=product\n",
    "                    factor1=i\n",
    "                    factor2=j\n",
    "\n",
    "    \n",
    "print(largest_palindrome, factor1, factor2)\n",
    "print(time.time()-start)"
   ]
  },
  {
   "cell_type": "code",
   "execution_count": 32,
   "metadata": {},
   "outputs": [
    {
     "name": "stdout",
     "output_type": "stream",
     "text": [
      "906609 993 913\n",
      "0.9732379913330078\n"
     ]
    }
   ],
   "source": [
    "## Starting from the bottom of the range\n",
    "\n",
    "start = time.time()\n",
    "largest_palindrome = 0\n",
    "factor1, factor2 = 0,0\n",
    "for i in range(100,1000):\n",
    "    for j in range(100,1000):\n",
    "        if(i>j):\n",
    "            product = int(i*j)\n",
    "            rev = int(reverse(str(product)))\n",
    "            if(product==rev):\n",
    "                if(product>largest_palindrome):\n",
    "                    largest_palindrome=product\n",
    "                    factor1=i\n",
    "                    factor2=j\n",
    "\n",
    "    \n",
    "print(largest_palindrome, factor1, factor2)\n",
    "print(time.time()-start)"
   ]
  },
  {
   "cell_type": "code",
   "execution_count": 33,
   "metadata": {},
   "outputs": [
    {
     "name": "stdout",
     "output_type": "stream",
     "text": [
      "232792560\n"
     ]
    }
   ],
   "source": [
    "i=2520\n",
    "while True:\n",
    "    for j in range(20,1,-1):\n",
    "        if(not i%j==0):\n",
    "            i+=20\n",
    "            break\n",
    "    else:\n",
    "        break\n",
    "        \n",
    "print(i)\n",
    "        "
   ]
  },
  {
   "cell_type": "code",
   "execution_count": 34,
   "metadata": {},
   "outputs": [
    {
     "data": {
      "text/plain": [
       "25164150"
      ]
     },
     "execution_count": 34,
     "metadata": {},
     "output_type": "execute_result"
    }
   ],
   "source": [
    "sum_nat = 0\n",
    "sum_sqr = 0\n",
    "for i in range(101):\n",
    "    sum_nat+=i\n",
    "    sum_sqr+=i**2\n",
    "    \n",
    "sum_nat**2-sum_sqr"
   ]
  },
  {
   "cell_type": "markdown",
   "metadata": {},
   "source": [
    "## Problem 7: 10001st prime\n",
    "\n",
    "By listing the first six prime numbers: 2, 3, 5, 7, 11, and 13, we can see that the 6th prime is 13.\n",
    "\n",
    "What is the 10 001st prime number?"
   ]
  },
  {
   "cell_type": "code",
   "execution_count": 35,
   "metadata": {},
   "outputs": [
    {
     "name": "stdout",
     "output_type": "stream",
     "text": [
      "104743\n",
      "50.54823398590088\n"
     ]
    }
   ],
   "source": [
    "start = time.time()\n",
    "n=3\n",
    "i=2\n",
    "while i<10001:\n",
    "    n+=2\n",
    "    if(is_prime(n)):\n",
    "        i+=1\n",
    "print(n)\n",
    "print(time.time()-start)"
   ]
  },
  {
   "cell_type": "markdown",
   "metadata": {},
   "source": [
    "## Problem 10: Summation of primes\n",
    "\n",
    "The sum of the primes below 10 is 2 + 3 + 5 + 7 = 17.\n",
    "\n",
    "Find the sum of all the primes below two million."
   ]
  },
  {
   "cell_type": "code",
   "execution_count": 36,
   "metadata": {},
   "outputs": [],
   "source": [
    "## Brute Force, takes too long\n",
    "\n",
    "# i=3\n",
    "# prime_sum = 2\n",
    "# while i<2000000:\n",
    "#     if(is_prime(i)):\n",
    "#         prime_sum+=i\n",
    "#     i+=2\n",
    "# print(prime_sum)"
   ]
  },
  {
   "cell_type": "code",
   "execution_count": 37,
   "metadata": {},
   "outputs": [
    {
     "name": "stdout",
     "output_type": "stream",
     "text": [
      "142913828922\n"
     ]
    }
   ],
   "source": [
    "def sumPrimes(n):\n",
    "    summ, sieve = 0, [True] * n\n",
    "    for p in range(2, n):\n",
    "        if sieve[p]:\n",
    "            summ += p\n",
    "            for i in range(p*p, n, p):\n",
    "                sieve[i] = False\n",
    "    return summ\n",
    "\n",
    "print(sumPrimes(2000000))"
   ]
  },
  {
   "cell_type": "markdown",
   "metadata": {},
   "source": [
    "## Custom Problem: Max profit from stock price series\n",
    "\n",
    "Given a series of stock prices, calculate the maximum possible profit from buying on one day and selling on any subsequent day"
   ]
  },
  {
   "cell_type": "code",
   "execution_count": 38,
   "metadata": {},
   "outputs": [
    {
     "name": "stdout",
     "output_type": "stream",
     "text": [
      "80\n"
     ]
    }
   ],
   "source": [
    "stockprice = [27, 54, 19, 48, 24, 50, 28, 84, 28, 5, 29, 85, 64,48, 39]\n",
    "\n",
    "max_profit = 0\n",
    "min_price = stockprice[0]\n",
    "\n",
    "for price in stockprice:\n",
    "    min_price = min(price, min_price)\n",
    "    max_profit = max(price-min_price, max_profit)\n",
    "    \n",
    "print(max_profit)"
   ]
  },
  {
   "cell_type": "markdown",
   "metadata": {},
   "source": [
    "## Classic Egg Drop Problem\n",
    "\n",
    "Given a certain number of eggs and certain number of floors in a building, calculate the minimum number of drops needed to discover the highest floor an egg can be dropped from and not break"
   ]
  },
  {
   "cell_type": "code",
   "execution_count": 39,
   "metadata": {},
   "outputs": [],
   "source": [
    "## recursive solutuion\n",
    "\n",
    "import sys\n",
    "def drop(num_eggs,num_floors):\n",
    "    if(num_floors==1 or num_floors==0 or num_eggs==1):\n",
    "        return num_floors\n",
    "#     min_drops = num_floors\n",
    "    #print(num_eggs, num_floors)\n",
    "    min_drops = sys.maxsize\n",
    "    for i in range(1,num_floors+1):\n",
    "        #num_drops = drop(num_eggs,num_floors-i) + drop(num_eggs-1,i-1)\n",
    "        num_drops = max(drop(num_eggs,num_floors-i), drop(num_eggs-1,i-1))\n",
    "        min_drops = min(num_drops, min_drops)\n",
    "\n",
    "    return min_drops+1"
   ]
  },
  {
   "cell_type": "code",
   "execution_count": 40,
   "metadata": {},
   "outputs": [
    {
     "data": {
      "text/plain": [
       "5"
      ]
     },
     "execution_count": 40,
     "metadata": {},
     "output_type": "execute_result"
    }
   ],
   "source": [
    "drop(3,20)"
   ]
  },
  {
   "cell_type": "markdown",
   "metadata": {},
   "source": [
    "## Problem 14: Longest Collatz sequence\n",
    "\n",
    "The following iterative sequence is defined for the set of positive integers:\n",
    "\n",
    "n → n/2 (n is even)\n",
    "n → 3n + 1 (n is odd)\n",
    "\n",
    "Using the rule above and starting with 13, we generate the following sequence:\n",
    "\n",
    "13 → 40 → 20 → 10 → 5 → 16 → 8 → 4 → 2 → 1\n",
    "It can be seen that this sequence (starting at 13 and finishing at 1) contains 10 terms. Although it has not been proved yet (Collatz Problem), it is thought that all starting numbers finish at 1.\n",
    "\n",
    "Which starting number, under one million, produces the longest chain?\n",
    "\n",
    "NOTE: Once the chain starts the terms are allowed to go above one million."
   ]
  },
  {
   "cell_type": "code",
   "execution_count": 41,
   "metadata": {},
   "outputs": [
    {
     "name": "stdout",
     "output_type": "stream",
     "text": [
      "837799 525\n"
     ]
    }
   ],
   "source": [
    "i=13\n",
    "link_length = {}\n",
    "max_chain_len = 0\n",
    "chain_start = 13\n",
    "for i in range(13,1000000):\n",
    "#     if(i%1000==0):\n",
    "#         print(i)\n",
    "    n=i\n",
    "    chain_len = 1\n",
    "    while not n==1:\n",
    "        if(n in link_length):\n",
    "            # use previous calculated chain lengths instead of recounting\n",
    "            chain_len+=link_length[n]-1\n",
    "            break\n",
    "        if(n%2==0):\n",
    "            n=n//2\n",
    "        else:\n",
    "            n=3*n+1\n",
    "        chain_len+=1\n",
    "    if(chain_len>max_chain_len):\n",
    "        max_chain_len=chain_len\n",
    "        chain_start=i\n",
    "    # record calculated chain length to avoid future recounting\n",
    "    link_length[i]=chain_len\n",
    "\n",
    "print(chain_start, max_chain_len)"
   ]
  },
  {
   "cell_type": "markdown",
   "metadata": {},
   "source": [
    "## Problem 16: Power digit sum\n",
    "\n",
    "215 = 32768 and the sum of its digits is 3 + 2 + 7 + 6 + 8 = 26.\n",
    "\n",
    "What is the sum of the digits of the number 21000?"
   ]
  },
  {
   "cell_type": "code",
   "execution_count": 42,
   "metadata": {},
   "outputs": [
    {
     "name": "stdout",
     "output_type": "stream",
     "text": [
      "1366\n"
     ]
    }
   ],
   "source": [
    "num = 2**1000\n",
    "print(sum([int(d) for d in str(num)]))"
   ]
  },
  {
   "cell_type": "markdown",
   "metadata": {},
   "source": [
    "## Problem 20: Factorial digit sum\n",
    "\n",
    "n! means n × (n − 1) × ... × 3 × 2 × 1\n",
    "\n",
    "For example, 10! = 10 × 9 × ... × 3 × 2 × 1 = 3628800,\n",
    "and the sum of the digits in the number 10! is 3 + 6 + 2 + 8 + 8 + 0 + 0 = 27.\n",
    "\n",
    "Find the sum of the digits in the number 100!"
   ]
  },
  {
   "cell_type": "code",
   "execution_count": 43,
   "metadata": {},
   "outputs": [
    {
     "name": "stdout",
     "output_type": "stream",
     "text": [
      "648\n"
     ]
    }
   ],
   "source": [
    "import math\n",
    "print(sum([int(d) for d in str(math.factorial(100))]))"
   ]
  },
  {
   "cell_type": "markdown",
   "metadata": {},
   "source": [
    "## Problem 23: Non-abundant sums\n",
    "\n",
    "A perfect number is a number for which the sum of its proper divisors is exactly equal to the number. For example, the sum of the proper divisors of 28 would be 1 + 2 + 4 + 7 + 14 = 28, which means that 28 is a perfect number.\n",
    "\n",
    "A number n is called deficient if the sum of its proper divisors is less than n and it is called abundant if this sum exceeds n.\n",
    "\n",
    "As 12 is the smallest abundant number, 1 + 2 + 3 + 4 + 6 = 16, the smallest number that can be written as the sum of two abundant numbers is 24. By mathematical analysis, it can be shown that all integers greater than 28123 can be written as the sum of two abundant numbers. However, this upper limit cannot be reduced any further by analysis even though it is known that the greatest number that cannot be expressed as the sum of two abundant numbers is less than this limit.\n",
    "\n",
    "Find the sum of all the positive integers which cannot be written as the sum of two abundant numbers."
   ]
  },
  {
   "cell_type": "code",
   "execution_count": 44,
   "metadata": {},
   "outputs": [],
   "source": [
    "def sum_factors(n):  \n",
    "    result = []\n",
    "    for i in range(1, int(n**0.5) + 1):\n",
    "        \n",
    "        if n % i == 0:\n",
    "            #print(i, n//i)\n",
    "            result.extend([i, n//i])\n",
    "    return sum(set(result)-set([n]))"
   ]
  },
  {
   "cell_type": "code",
   "execution_count": 45,
   "metadata": {},
   "outputs": [
    {
     "name": "stdout",
     "output_type": "stream",
     "text": [
      "6965\n"
     ]
    }
   ],
   "source": [
    "abundant_nums = []\n",
    "for i in range(28123):\n",
    "    if(sum_factors(i)>i):\n",
    "        abundant_nums.append(i)\n",
    "abundant_nums = set(abundant_nums)\n",
    "print(len(abundant_nums))"
   ]
  },
  {
   "cell_type": "code",
   "execution_count": 46,
   "metadata": {},
   "outputs": [
    {
     "name": "stdout",
     "output_type": "stream",
     "text": [
      "4179871\n",
      "3.910912036895752\n"
     ]
    }
   ],
   "source": [
    "start = time.time()\n",
    "summ = 0\n",
    "for i in range(28123):\n",
    "#     if(i%1000==0):\n",
    "#         print(i)\n",
    "    b=False\n",
    "    for num in abundant_nums:\n",
    "        x=i-num\n",
    "        if(x in abundant_nums):\n",
    "            b=True\n",
    "            break\n",
    "    if(not b):\n",
    "        summ+=i\n",
    "print(summ)\n",
    "\n",
    "print(time.time()-start)"
   ]
  },
  {
   "cell_type": "code",
   "execution_count": 47,
   "metadata": {},
   "outputs": [
    {
     "data": {
      "text/plain": [
       "1"
      ]
     },
     "execution_count": 47,
     "metadata": {},
     "output_type": "execute_result"
    }
   ],
   "source": [
    "3//2"
   ]
  },
  {
   "cell_type": "code",
   "execution_count": 48,
   "metadata": {},
   "outputs": [
    {
     "name": "stdout",
     "output_type": "stream",
     "text": [
      "1\n",
      "2\n",
      "3\n"
     ]
    }
   ],
   "source": [
    "for i in range(1,4):\n",
    "    print(i)"
   ]
  },
  {
   "cell_type": "markdown",
   "metadata": {},
   "source": [
    "## HackerRank Problem: Special String again\n",
    "\n",
    "https://www.hackerrank.com/challenges/special-palindrome-again/problem\n",
    "\n",
    "A string is said to be a special string if either of two conditions is met:\n",
    "\n",
    "All of the characters are the same, e.g. aaa.\n",
    "All characters except the middle one are the same, e.g. aadaa.\n",
    "A special substring is any substring of a string which meets one of those criteria. Given a string, determine how many special substrings can be formed from it.\n",
    "\n",
    "For example, given the string s=mnonopoo, we have the following special substrings: \n",
    "\n",
    "{m, n, o, n, o, p, o, o, non, ono, opo, oo}."
   ]
  },
  {
   "cell_type": "code",
   "execution_count": 49,
   "metadata": {},
   "outputs": [],
   "source": [
    "def substrCount(n, s):\n",
    "    num_special=0\n",
    "    for l in range(1, n+1):\n",
    "        for start in range(n-l+1):\n",
    "            sub = s[start:start+l]\n",
    "            #print(l,start, start+l, sub)\n",
    "            special=True\n",
    "            for i in range(l//2):\n",
    "                if(not sub[i]==sub[l-i-1]==sub[0]):\n",
    "                    special=False\n",
    "            if(special):\n",
    "                num_special+=1\n",
    "                print(sub)\n",
    "    return num_special"
   ]
  },
  {
   "cell_type": "code",
   "execution_count": 50,
   "metadata": {},
   "outputs": [
    {
     "name": "stdout",
     "output_type": "stream",
     "text": [
      "a\n",
      "b\n",
      "c\n",
      "b\n",
      "a\n",
      "b\n",
      "a\n",
      "bcb\n",
      "bab\n",
      "aba\n"
     ]
    },
    {
     "data": {
      "text/plain": [
       "10"
      ]
     },
     "execution_count": 50,
     "metadata": {},
     "output_type": "execute_result"
    }
   ],
   "source": [
    "substrCount(7, 'abcbaba')"
   ]
  },
  {
   "cell_type": "markdown",
   "metadata": {},
   "source": [
    "## Problem 30: Digit fifth powers\n",
    "\n",
    "Surprisingly there are only three numbers that can be written as the sum of fourth powers of their digits:\n",
    "\n",
    "1634 = 1^4 + 6^4 + 3^4 + 4^4\n",
    "8208 = 8^4 + 2^4 + 0^4 + 8^4\n",
    "9474 = 9^4 + 4^4 + 7^4 + 4^4\n",
    "As 1 = 1^4 is not a sum it is not included.\n",
    "\n",
    "The sum of these numbers is 1634 + 8208 + 9474 = 19316.\n",
    "\n",
    "Find the sum of all the numbers that can be written as the sum of fifth powers of their digits."
   ]
  },
  {
   "cell_type": "code",
   "execution_count": 51,
   "metadata": {},
   "outputs": [
    {
     "name": "stdout",
     "output_type": "stream",
     "text": [
      "443839\n"
     ]
    }
   ],
   "source": [
    "limit = 5*9**5\n",
    "summ = 0\n",
    "for i in range(2,limit):\n",
    "    dsum = sum([int(d)**5 for d in str(i)])\n",
    "    if(i==dsum):\n",
    "        summ+=i\n",
    "        \n",
    "print(summ)"
   ]
  },
  {
   "cell_type": "markdown",
   "metadata": {},
   "source": [
    "## Problem 32: Pandigital products\n",
    "\n",
    "We shall say that an n-digit number is pandigital if it makes use of all the digits 1 to n exactly once; for example, the 5-digit number, 15234, is 1 through 5 pandigital.\n",
    "\n",
    "The product 7254 is unusual, as the identity, 39 × 186 = 7254, containing multiplicand, multiplier, and product is 1 through 9 pandigital.\n",
    "\n",
    "Find the sum of all products whose multiplicand/multiplier/product identity can be written as a 1 through 9 pandigital.\n",
    "\n",
    "HINT: Some products can be obtained in more than one way so be sure to only include it once in your sum."
   ]
  },
  {
   "cell_type": "code",
   "execution_count": 52,
   "metadata": {},
   "outputs": [
    {
     "name": "stdout",
     "output_type": "stream",
     "text": [
      "12 483 5796\n",
      "18 297 5346\n",
      "27 198 5346\n",
      "28 157 4396\n",
      "39 186 7254\n",
      "4 1738 6952\n",
      "4 1963 7852\n",
      "42 138 5796\n",
      "48 159 7632\n",
      "45228 362880\n"
     ]
    }
   ],
   "source": [
    "from itertools import permutations\n",
    "prods = []\n",
    "p =0\n",
    "for perm in permutations(['1','2','3','4','5','6','7','8','9']):\n",
    "    p+=1\n",
    "    x = int(''.join(perm[0:2]))\n",
    "    y = int(''.join(perm[2:5]))\n",
    "    z = int(''.join(perm[5:]))\n",
    "    if(x*y==z):\n",
    "        prods.append(z)\n",
    "        print(x,y,z)\n",
    "    x = int(''.join(perm[0]))\n",
    "    y = int(''.join(perm[1:5]))\n",
    "    z = int(''.join(perm[5:]))\n",
    "    if(x*y==z):\n",
    "        prods.append(z)\n",
    "        print(x,y,z)\n",
    "        \n",
    "print(sum(set(prods)), p)"
   ]
  },
  {
   "cell_type": "markdown",
   "metadata": {},
   "source": [
    "## Problem 1: Multiples of 3 and 5\n",
    "\n",
    "If we list all the natural numbers below 10 that are multiples of 3 or 5, we get 3, 5, 6 and 9. The sum of these multiples is 23.\n",
    "\n",
    "Find the sum of all the multiples of 3 or 5 below 1000."
   ]
  },
  {
   "cell_type": "code",
   "execution_count": 53,
   "metadata": {},
   "outputs": [
    {
     "name": "stdout",
     "output_type": "stream",
     "text": [
      "233168\n"
     ]
    }
   ],
   "source": [
    "## I don't know why I was doing it this way\n",
    "\n",
    "# n=1000\n",
    "# summ = 0\n",
    "# sieve = [False]*n\n",
    "# for p in range(3,n,3):\n",
    "#     sieve[p]=True\n",
    "    \n",
    "# for p in range(5,n,5):\n",
    "#     sieve[p]=True\n",
    "\n",
    "\n",
    "# lst = list(range(1001))\n",
    "# vals = [x if y else 0 for x, y in zip(lst, sieve)]\n",
    "# print(sum(vals))\n",
    "\n",
    "\n",
    "summ=0\n",
    "for i in range(1000):\n",
    "    if(i%3==0 or i%5==0): \n",
    "        summ+=i\n",
    "        \n",
    "print(summ)"
   ]
  }
 ],
 "metadata": {
  "kernelspec": {
   "display_name": "Python [default]",
   "language": "python",
   "name": "python3"
  },
  "language_info": {
   "codemirror_mode": {
    "name": "ipython",
    "version": 3
   },
   "file_extension": ".py",
   "mimetype": "text/x-python",
   "name": "python",
   "nbconvert_exporter": "python",
   "pygments_lexer": "ipython3",
   "version": "3.5.5"
  }
 },
 "nbformat": 4,
 "nbformat_minor": 2
}
